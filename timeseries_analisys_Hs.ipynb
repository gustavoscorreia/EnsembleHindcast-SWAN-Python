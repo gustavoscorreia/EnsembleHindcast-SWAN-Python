{
 "cells": [
  {
   "cell_type": "markdown",
   "metadata": {},
   "source": [
    "# Time Series Analisys - SWAN outputs - Significant Wave Height"
   ]
  },
  {
   "cell_type": "markdown",
   "metadata": {},
   "source": [
    "#### Import bibs and time series (To Rio Grande or Itajaí wavebuoy location)"
   ]
  },
  {
   "cell_type": "markdown",
   "metadata": {},
   "source": [
    "for Rio Grande analyses: set in all cells \"file = 'riogrande_filtered.csv'\""
   ]
  },
  {
   "cell_type": "markdown",
   "metadata": {},
   "source": [
    "for Itajaí analyses: set in all cells \"file = 'itajai_filtered.csv'\""
   ]
  },
  {
   "cell_type": "code",
   "execution_count": null,
   "metadata": {},
   "outputs": [],
   "source": [
    "import numpy as np\n",
    "import pandas as pd\n",
    "import manuscript_functions as mf\n",
    "import matplotlib.pyplot as plt"
   ]
  },
  {
   "cell_type": "code",
   "execution_count": null,
   "metadata": {},
   "outputs": [],
   "source": [
    "fronteira = 'csiro0'\n",
    "swh_era5_mat_list = ['Hs_integ_2015_ensmbl_0.mat']   #GSC 19/07/2020\n",
    "\n",
    "# Import buoy file\n",
    "par = 'buoy'\n",
    "par_index = 53\n",
    "file = 'itajai_filtered.csv'\n",
    "\n",
    "swh_df = mf.read_buoy_csv(file, par, par_index)\n",
    "\n",
    "# Import mat files\n",
    "\n",
    "lon = swh_df['lon'][0]\n",
    "lat = swh_df['lat'][0]\n",
    "dt_format = 'Hsig_%Y%m%d_%H%M%S'\n",
    "\n",
    "mat_list = swh_era5_mat_list\n",
    "\n",
    "swh_era = mf.list2df(mat_list, 'csiro0', lon, lat, dt_format)\n",
    "\n",
    "swh = swh_df.join(swh_era, how='inner')\n"
   ]
  },
  {
   "cell_type": "code",
   "execution_count": null,
   "metadata": {},
   "outputs": [],
   "source": [
    "fronteira = 'csiro1'\n",
    "swh_era5_mat_list = ['Hs_integ_2015_ensmbl_1.mat'] \n",
    "\n",
    "\n",
    "# Import buoy file\n",
    "par = 'buoy'\n",
    "par_index = 53\n",
    "file = 'itajai_filtered.csv'\n",
    "\n",
    "swh_df = mf.read_buoy_csv(file, par, par_index)\n",
    "\n",
    "# Import mat files\n",
    "\n",
    "lon = swh_df['lon'][0]\n",
    "lat = swh_df['lat'][0]\n",
    "dt_format = 'Hsig_%Y%m%d_%H%M%S'\n",
    "\n",
    "mat_list = swh_era5_mat_list\n",
    "\n",
    "swh_era = mf.list2df(mat_list, 'csiro1', lon, lat, dt_format)\n",
    "\n",
    "swh = swh.join(swh_era, how='inner')"
   ]
  },
  {
   "cell_type": "code",
   "execution_count": null,
   "metadata": {},
   "outputs": [],
   "source": [
    "fronteira = 'csiro2'\n",
    "swh_era5_mat_list = ['Hs_integ_2015_ensmbl_2.mat'] \n",
    "\n",
    "# Import buoy file\n",
    "par = 'buoy'\n",
    "par_index = 53\n",
    "file = 'itajai_filtered.csv'\n",
    "\n",
    "swh_df = mf.read_buoy_csv(file, par, par_index)\n",
    "\n",
    "# Import mat files\n",
    "lon = swh_df['lon'][0]\n",
    "lat = swh_df['lat'][0]\n",
    "dt_format = 'Hsig_%Y%m%d_%H%M%S'\n",
    "\n",
    "mat_list = swh_era5_mat_list\n",
    "\n",
    "swh_era = mf.list2df(mat_list, 'csiro2', lon, lat, dt_format)\n",
    "\n",
    "swh = swh.join(swh_era, how='inner')"
   ]
  },
  {
   "cell_type": "code",
   "execution_count": null,
   "metadata": {},
   "outputs": [],
   "source": [
    "fronteira = 'csiro3'\n",
    "swh_era5_mat_list = ['Hs_integ_2015_ensmbl_3.mat'] \n",
    "\n",
    "# Import buoy file\n",
    "par = 'buoy'\n",
    "par_index = 53\n",
    "file = 'itajai_filtered.csv'\n",
    "\n",
    "swh_df = mf.read_buoy_csv(file, par, par_index)\n",
    "\n",
    "# Import mat files\n",
    "lon = swh_df['lon'][0]\n",
    "lat = swh_df['lat'][0]\n",
    "dt_format = 'Hsig_%Y%m%d_%H%M%S'\n",
    "\n",
    "mat_list = swh_era5_mat_list\n",
    "\n",
    "swh_era = mf.list2df(mat_list, 'csiro3', lon, lat, dt_format)\n",
    "\n",
    "swh = swh.join(swh_era, how='inner')"
   ]
  },
  {
   "cell_type": "code",
   "execution_count": null,
   "metadata": {},
   "outputs": [],
   "source": [
    "fronteira = 'csiro4'\n",
    "swh_era5_mat_list = ['Hs_integ_2015_ensmbl_4.mat'] \n",
    "\n",
    "# Import buoy file\n",
    "par = 'buoy'\n",
    "par_index = 53\n",
    "file = 'itajai_filtered.csv'\n",
    "\n",
    "swh_df = mf.read_buoy_csv(file, par, par_index)\n",
    "\n",
    "# Import mat files\n",
    "lon = swh_df['lon'][0]\n",
    "lat = swh_df['lat'][0]\n",
    "dt_format = 'Hsig_%Y%m%d_%H%M%S'\n",
    "\n",
    "mat_list = swh_era5_mat_list\n",
    "\n",
    "swh_era = mf.list2df(mat_list, 'csiro4', lon, lat, dt_format)\n",
    "\n",
    "swh = swh.join(swh_era, how='inner')"
   ]
  },
  {
   "cell_type": "code",
   "execution_count": null,
   "metadata": {},
   "outputs": [],
   "source": [
    "fronteira = 'csiro5'\n",
    "swh_era5_mat_list = ['Hs_integ_2015_ensmbl_5.mat'] \n",
    "\n",
    "# Import buoy file\n",
    "par = 'buoy'\n",
    "par_index = 53\n",
    "file = 'itajai_filtered.csv'\n",
    "\n",
    "swh_df = mf.read_buoy_csv(file, par, par_index)\n",
    "\n",
    "# Import mat files\n",
    "lon = swh_df['lon'][0]\n",
    "lat = swh_df['lat'][0]\n",
    "dt_format = 'Hsig_%Y%m%d_%H%M%S'\n",
    "\n",
    "mat_list = swh_era5_mat_list\n",
    "\n",
    "swh_era = mf.list2df(mat_list, 'csiro5', lon, lat, dt_format)\n",
    "\n",
    "swh = swh.join(swh_era, how='inner')"
   ]
  },
  {
   "cell_type": "code",
   "execution_count": null,
   "metadata": {},
   "outputs": [],
   "source": [
    "fronteira = 'csiro6'\n",
    "swh_era5_mat_list = ['Hs_integ_2015_ensmbl_6.mat'] \n",
    "\n",
    "# Import buoy file\n",
    "par = 'buoy'\n",
    "par_index = 53\n",
    "file = 'itajai_filtered.csv'\n",
    "\n",
    "swh_df = mf.read_buoy_csv(file, par, par_index)\n",
    "\n",
    "# Import mat files\n",
    "lon = swh_df['lon'][0]\n",
    "lat = swh_df['lat'][0]\n",
    "dt_format = 'Hsig_%Y%m%d_%H%M%S'\n",
    "\n",
    "mat_list = swh_era5_mat_list\n",
    "\n",
    "swh_era = mf.list2df(mat_list, 'csiro6', lon, lat, dt_format)\n",
    "\n",
    "swh = swh.join(swh_era, how='inner')"
   ]
  },
  {
   "cell_type": "code",
   "execution_count": null,
   "metadata": {},
   "outputs": [],
   "source": [
    "fronteira = 'csiro7'\n",
    "swh_era5_mat_list = ['Hs_integ_2015_ensmbl_7.mat'] \n",
    "\n",
    "# Import buoy file\n",
    "par = 'buoy'\n",
    "par_index = 53\n",
    "file = 'itajai_filtered.csv'\n",
    "\n",
    "swh_df = mf.read_buoy_csv(file, par, par_index)\n",
    "\n",
    "# Import mat files\n",
    "lon = swh_df['lon'][0]\n",
    "lat = swh_df['lat'][0]\n",
    "dt_format = 'Hsig_%Y%m%d_%H%M%S'\n",
    "\n",
    "mat_list = swh_era5_mat_list\n",
    "\n",
    "swh_era = mf.list2df(mat_list, 'csiro7', lon, lat, dt_format)\n",
    "\n",
    "swh = swh.join(swh_era, how='inner')"
   ]
  },
  {
   "cell_type": "code",
   "execution_count": null,
   "metadata": {},
   "outputs": [],
   "source": [
    "fronteira = 'csiro8'\n",
    "swh_era5_mat_list = ['Hs_integ_2015_ensmbl_8.mat'] \n",
    "\n",
    "\n",
    "# Import buoy file\n",
    "par = 'buoy'\n",
    "par_index = 53\n",
    "file = 'itajai_filtered.csv'\n",
    "\n",
    "swh_df = mf.read_buoy_csv(file, par, par_index)\n",
    "\n",
    "# Import mat files\n",
    "lon = swh_df['lon'][0]\n",
    "lat = swh_df['lat'][0]\n",
    "dt_format = 'Hsig_%Y%m%d_%H%M%S'\n",
    "\n",
    "mat_list = swh_era5_mat_list\n",
    "\n",
    "swh_era = mf.list2df(mat_list, 'csiro8', lon, lat, dt_format)\n",
    "\n",
    "swh = swh.join(swh_era, how='inner')"
   ]
  },
  {
   "cell_type": "code",
   "execution_count": null,
   "metadata": {},
   "outputs": [],
   "source": [
    "fronteira = 'csiro9'\n",
    "swh_era5_mat_list = ['Hs_integ_2015_ensmbl_9.mat'] \n",
    "\n",
    "\n",
    "# Import buoy file\n",
    "par = 'buoy'\n",
    "par_index = 53\n",
    "file = 'itajai_filtered.csv'\n",
    "\n",
    "swh_df = mf.read_buoy_csv(file, par, par_index)\n",
    "\n",
    "# Import mat files\n",
    "lon = swh_df['lon'][0]\n",
    "lat = swh_df['lat'][0]\n",
    "dt_format = 'Hsig_%Y%m%d_%H%M%S'\n",
    "\n",
    "mat_list = swh_era5_mat_list\n",
    "\n",
    "swh_era = mf.list2df(mat_list, 'csiro9', lon, lat, dt_format)\n",
    "\n",
    "swh = swh.join(swh_era, how='inner')"
   ]
  },
  {
   "cell_type": "code",
   "execution_count": null,
   "metadata": {},
   "outputs": [],
   "source": [
    "fronteira = 'csiro_WRF00'\n",
    "swh_era5_mat_list = ['Hs_integ_WRF_ensmbl_0.mat'] \n",
    "\n",
    "\n",
    "# Import buoy file\n",
    "\n",
    "par = 'buoy'\n",
    "par_index = 53\n",
    "file = 'itajai_filtered.csv'\n",
    "\n",
    "swh_df = mf.read_buoy_csv(file, par, par_index)\n",
    "\n",
    "# Import mat files\n",
    "lon = swh_df['lon'][0]\n",
    "lat = swh_df['lat'][0]\n",
    "dt_format = 'Hsig_%Y%m%d_%H%M%S'\n",
    "\n",
    "mat_list = swh_era5_mat_list\n",
    "\n",
    "swh_era = mf.list2df(mat_list, 'csiro_WRF00', lon, lat, dt_format)\n",
    "\n",
    "swh = swh.join(swh_era, how='inner')"
   ]
  },
  {
   "cell_type": "code",
   "execution_count": null,
   "metadata": {},
   "outputs": [],
   "source": [
    "fronteira = 'csiro_WRF01'\n",
    "swh_era5_mat_list = ['Hs_integ_WRF_ensmbl_1.mat'] \n",
    "\n",
    "\n",
    "# Import buoy file\n",
    "\n",
    "par = 'buoy'\n",
    "par_index = 53\n",
    "file = 'itajai_filtered.csv'\n",
    "\n",
    "swh_df = mf.read_buoy_csv(file, par, par_index)\n",
    "\n",
    "# Import mat files\n",
    "lon = swh_df['lon'][0]\n",
    "lat = swh_df['lat'][0]\n",
    "dt_format = 'Hsig_%Y%m%d_%H%M%S'\n",
    "\n",
    "mat_list = swh_era5_mat_list\n",
    "\n",
    "swh_era = mf.list2df(mat_list, 'csiro_WRF01', lon, lat, dt_format)\n",
    "\n",
    "swh = swh.join(swh_era, how='inner')"
   ]
  },
  {
   "cell_type": "code",
   "execution_count": null,
   "metadata": {},
   "outputs": [],
   "source": [
    "fronteira = 'csiro_WRF02'\n",
    "swh_era5_mat_list = ['Hs_integ_WRF_ensmbl_2.mat'] \n",
    "\n",
    "\n",
    "# Import buoy file\n",
    "par = 'buoy'\n",
    "par_index = 53\n",
    "file = 'itajai_filtered.csv'\n",
    "\n",
    "swh_df = mf.read_buoy_csv(file, par, par_index)\n",
    "\n",
    "# Import mat files\n",
    "lon = swh_df['lon'][0]\n",
    "lat = swh_df['lat'][0]\n",
    "dt_format = 'Hsig_%Y%m%d_%H%M%S'\n",
    "\n",
    "mat_list = swh_era5_mat_list\n",
    "\n",
    "swh_era = mf.list2df(mat_list, 'csiro_WRF02', lon, lat, dt_format)\n",
    "\n",
    "swh = swh.join(swh_era, how='inner')"
   ]
  },
  {
   "cell_type": "code",
   "execution_count": null,
   "metadata": {},
   "outputs": [],
   "source": [
    "fronteira = 'csiro_WRF03'\n",
    "swh_era5_mat_list = ['Hs_integ_WRF_ensmbl_3.mat'] \n",
    "\n",
    "\n",
    "# Import buoy file\n",
    "\n",
    "par = 'buoy'\n",
    "par_index = 53\n",
    "file = 'itajai_filtered.csv'\n",
    "\n",
    "swh_df = mf.read_buoy_csv(file, par, par_index)\n",
    "\n",
    "# Import mat files\n",
    "lon = swh_df['lon'][0]\n",
    "lat = swh_df['lat'][0]\n",
    "dt_format = 'Hsig_%Y%m%d_%H%M%S'\n",
    "\n",
    "mat_list = swh_era5_mat_list\n",
    "\n",
    "swh_era = mf.list2df(mat_list, 'csiro_WRF03', lon, lat, dt_format)\n",
    "\n",
    "swh = swh.join(swh_era, how='inner')"
   ]
  },
  {
   "cell_type": "code",
   "execution_count": null,
   "metadata": {},
   "outputs": [],
   "source": [
    "fronteira = 'csiro_WRF04'\n",
    "swh_era5_mat_list = ['Hs_integ_WRF_ensmbl_4.mat'] \n",
    "\n",
    "\n",
    "# Import buoy file\n",
    "\n",
    "par = 'buoy'\n",
    "par_index = 53\n",
    "file = 'itajai_filtered.csv'\n",
    "\n",
    "swh_df = mf.read_buoy_csv(file, par, par_index)\n",
    "\n",
    "# Import mat files\n",
    "lon = swh_df['lon'][0]\n",
    "lat = swh_df['lat'][0]\n",
    "dt_format = 'Hsig_%Y%m%d_%H%M%S'\n",
    "\n",
    "mat_list = swh_era5_mat_list\n",
    "\n",
    "swh_era = mf.list2df(mat_list, 'csiro_WRF04', lon, lat, dt_format)\n",
    "\n",
    "swh = swh.join(swh_era, how='inner')"
   ]
  },
  {
   "cell_type": "code",
   "execution_count": null,
   "metadata": {},
   "outputs": [],
   "source": [
    "fronteira = 'csiro_WRF05'\n",
    "swh_era5_mat_list = ['Hs_integ_WRF_ensmbl_5.mat'] \n",
    "\n",
    "\n",
    "# Import buoy file\n",
    "\n",
    "par = 'buoy'\n",
    "par_index = 53\n",
    "file = 'itajai_filtered.csv'\n",
    "\n",
    "swh_df = mf.read_buoy_csv(file, par, par_index)\n",
    "\n",
    "# Import mat files\n",
    "lon = swh_df['lon'][0]\n",
    "lat = swh_df['lat'][0]\n",
    "dt_format = 'Hsig_%Y%m%d_%H%M%S'\n",
    "\n",
    "mat_list = swh_era5_mat_list\n",
    "\n",
    "swh_era = mf.list2df(mat_list, 'csiro_WRF05', lon, lat, dt_format)\n",
    "\n",
    "swh = swh.join(swh_era, how='inner')"
   ]
  },
  {
   "cell_type": "code",
   "execution_count": null,
   "metadata": {},
   "outputs": [],
   "source": [
    "fronteira = 'csiro_WRF06'\n",
    "swh_era5_mat_list = ['Hs_integ_WRF_ensmbl_6.mat'] \n",
    "\n",
    "\n",
    "# Import buoy file\n",
    "\n",
    "par = 'buoy'\n",
    "par_index = 53\n",
    "file = 'itajai_filtered.csv'\n",
    "\n",
    "swh_df = mf.read_buoy_csv(file, par, par_index)\n",
    "\n",
    "# Import mat files\n",
    "lon = swh_df['lon'][0]\n",
    "lat = swh_df['lat'][0]\n",
    "dt_format = 'Hsig_%Y%m%d_%H%M%S'\n",
    "\n",
    "mat_list = swh_era5_mat_list\n",
    "\n",
    "swh_era = mf.list2df(mat_list, 'csiro_WRF06', lon, lat, dt_format)\n",
    "\n",
    "swh = swh.join(swh_era, how='inner')"
   ]
  },
  {
   "cell_type": "code",
   "execution_count": null,
   "metadata": {},
   "outputs": [],
   "source": [
    "fronteira = 'csiro_WRF07'\n",
    "swh_era5_mat_list = ['Hs_integ_WRF_ensmbl_7.mat'] \n",
    "\n",
    "\n",
    "# Import buoy file\n",
    "\n",
    "par = 'buoy'\n",
    "par_index = 53\n",
    "file = 'itajai_filtered.csv'\n",
    "\n",
    "swh_df = mf.read_buoy_csv(file, par, par_index)\n",
    "\n",
    "# Import mat files\n",
    "lon = swh_df['lon'][0]\n",
    "lat = swh_df['lat'][0]\n",
    "dt_format = 'Hsig_%Y%m%d_%H%M%S'\n",
    "\n",
    "mat_list = swh_era5_mat_list\n",
    "\n",
    "swh_era = mf.list2df(mat_list, 'csiro_WRF07', lon, lat, dt_format)\n",
    "\n",
    "swh = swh.join(swh_era, how='inner')"
   ]
  },
  {
   "cell_type": "code",
   "execution_count": null,
   "metadata": {},
   "outputs": [],
   "source": [
    "fronteira = 'csiro_WRF08'\n",
    "swh_era5_mat_list = ['Hs_integ_WRF_ensmbl_8.mat'] \n",
    "\n",
    "\n",
    "# Import buoy file\n",
    "\n",
    "par = 'buoy'\n",
    "par_index = 53\n",
    "file = 'itajai_filtered.csv'\n",
    "\n",
    "swh_df = mf.read_buoy_csv(file, par, par_index)\n",
    "\n",
    "# Import mat files\n",
    "\n",
    "lon = swh_df['lon'][0]\n",
    "lat = swh_df['lat'][0]\n",
    "dt_format = 'Hsig_%Y%m%d_%H%M%S'\n",
    "\n",
    "mat_list = swh_era5_mat_list\n",
    "\n",
    "swh_era = mf.list2df(mat_list, 'csiro_WRF08', lon, lat, dt_format)\n",
    "\n",
    "swh = swh.join(swh_era, how='inner')"
   ]
  },
  {
   "cell_type": "code",
   "execution_count": null,
   "metadata": {},
   "outputs": [],
   "source": [
    "fronteira = 'csiro_WRF09'\n",
    "swh_era5_mat_list = ['Hs_integ_WRF_ensmbl_9.mat'] \n",
    "\n",
    "\n",
    "# Import buoy file\n",
    "\n",
    "par = 'buoy'\n",
    "par_index = 53\n",
    "file = 'itajai_filtered.csv'\n",
    "\n",
    "swh_df = mf.read_buoy_csv(file, par, par_index)\n",
    "\n",
    "# Import mat files\n",
    "\n",
    "lon = swh_df['lon'][0]\n",
    "lat = swh_df['lat'][0]\n",
    "dt_format = 'Hsig_%Y%m%d_%H%M%S'\n",
    "\n",
    "mat_list = swh_era5_mat_list\n",
    "\n",
    "swh_era = mf.list2df(mat_list, 'csiro_WRF09', lon, lat, dt_format)\n",
    "\n",
    "swh = swh.join(swh_era, how='inner')"
   ]
  },
  {
   "cell_type": "code",
   "execution_count": null,
   "metadata": {},
   "outputs": [],
   "source": [
    "fronteira = 'csiro_WRF10'\n",
    "swh_era5_mat_list = ['Hs_integ_WRF_ensmbl_10.mat'] \n",
    "\n",
    "\n",
    "# Import buoy file\n",
    "\n",
    "par = 'buoy'\n",
    "par_index = 53\n",
    "file = 'itajai_filtered.csv'\n",
    "\n",
    "swh_df = mf.read_buoy_csv(file, par, par_index)\n",
    "\n",
    "# Import mat files\n",
    "\n",
    "lon = swh_df['lon'][0]\n",
    "lat = swh_df['lat'][0]\n",
    "dt_format = 'Hsig_%Y%m%d_%H%M%S'\n",
    "\n",
    "mat_list = swh_era5_mat_list\n",
    "\n",
    "swh_era = mf.list2df(mat_list, 'csiro_WRF10', lon, lat, dt_format)\n",
    "\n",
    "swh = swh.join(swh_era, how='inner')"
   ]
  },
  {
   "cell_type": "code",
   "execution_count": null,
   "metadata": {},
   "outputs": [],
   "source": [
    "fronteira = 'csiro_WRF11'\n",
    "swh_era5_mat_list = ['Hs_integ_WRF_ensmbl_11.mat'] \n",
    "\n",
    "\n",
    "# Import buoy file\n",
    "\n",
    "par = 'buoy'\n",
    "par_index = 53\n",
    "file = 'itajai_filtered.csv'\n",
    "\n",
    "swh_df = mf.read_buoy_csv(file, par, par_index)\n",
    "\n",
    "# Import mat files\n",
    "\n",
    "lon = swh_df['lon'][0]\n",
    "lat = swh_df['lat'][0]\n",
    "dt_format = 'Hsig_%Y%m%d_%H%M%S'\n",
    "\n",
    "mat_list = swh_era5_mat_list\n",
    "\n",
    "swh_era = mf.list2df(mat_list, 'csiro_WRF11', lon, lat, dt_format)\n",
    "\n",
    "swh = swh.join(swh_era, how='inner')"
   ]
  },
  {
   "cell_type": "code",
   "execution_count": null,
   "metadata": {},
   "outputs": [],
   "source": [
    "fronteira = 'csiro_WRF12'\n",
    "swh_era5_mat_list = ['Hs_integ_WRF_ensmbl_12.mat'] \n",
    "\n",
    "\n",
    "# Import buoy file\n",
    "\n",
    "par = 'buoy'\n",
    "par_index = 53\n",
    "file = 'itajai_filtered.csv'\n",
    "\n",
    "swh_df = mf.read_buoy_csv(file, par, par_index)\n",
    "\n",
    "# Import mat files\n",
    "\n",
    "lon = swh_df['lon'][0]\n",
    "lat = swh_df['lat'][0]\n",
    "dt_format = 'Hsig_%Y%m%d_%H%M%S'\n",
    "\n",
    "mat_list = swh_era5_mat_list\n",
    "\n",
    "swh_era = mf.list2df(mat_list, 'csiro_WRF12', lon, lat, dt_format)\n",
    "\n",
    "swh = swh.join(swh_era, how='inner')"
   ]
  },
  {
   "cell_type": "code",
   "execution_count": null,
   "metadata": {},
   "outputs": [],
   "source": [
    "##### ATE AQUI #####\n",
    "\n",
    "fronteira = 'csiro_WRF13'\n",
    "swh_era5_mat_list = ['Hs_integ_WRF_ensmbl_13.mat'] \n",
    "\n",
    "\n",
    "# Import buoy file\n",
    "\n",
    "par = 'buoy'\n",
    "par_index = 53\n",
    "file = 'itajai_filtered.csv'\n",
    "\n",
    "swh_df = mf.read_buoy_csv(file, par, par_index)\n",
    "\n",
    "# Import mat files\n",
    "\n",
    "lon = swh_df['lon'][0]\n",
    "lat = swh_df['lat'][0]\n",
    "dt_format = 'Hsig_%Y%m%d_%H%M%S'\n",
    "\n",
    "mat_list = swh_era5_mat_list\n",
    "\n",
    "swh_era = mf.list2df(mat_list, 'csiro_WRF13', lon, lat, dt_format)\n",
    "\n",
    "swh = swh.join(swh_era, how='inner')"
   ]
  },
  {
   "cell_type": "markdown",
   "metadata": {},
   "source": [
    "## Ensemble Spread & Mean "
   ]
  },
  {
   "cell_type": "markdown",
   "metadata": {},
   "source": [
    "### Calculations for the SWN-ERA5EDA system"
   ]
  },
  {
   "cell_type": "markdown",
   "metadata": {},
   "source": [
    "#### ENS Mean"
   ]
  },
  {
   "cell_type": "code",
   "execution_count": null,
   "metadata": {},
   "outputs": [],
   "source": [
    "swh2 = swh[['csiro0', 'csiro1','csiro2','csiro3','csiro4','csiro5','csiro6','csiro7','csiro8','csiro9']]\n",
    "print(type(swh2))"
   ]
  },
  {
   "cell_type": "code",
   "execution_count": null,
   "metadata": {},
   "outputs": [],
   "source": [
    "ensmean = (swh2.csiro0 + swh2.csiro1 + swh2.csiro2 + swh2.csiro3 + swh2.csiro4 + swh2.csiro5 + swh2.csiro6 + swh2.csiro7 + swh2.csiro8 + swh2.csiro9) / 10"
   ]
  },
  {
   "cell_type": "markdown",
   "metadata": {},
   "source": [
    "#### ENS Spread"
   ]
  },
  {
   "cell_type": "code",
   "execution_count": null,
   "metadata": {},
   "outputs": [],
   "source": [
    "from math import sqrt\n",
    "\n",
    "#standard_deviation = sqrt( sum( (x - mean)^2 ) / count(x))\n",
    "csiro0_etp1 = (swh2.csiro0 - ensmean)**2 / 10 #swh2.csiro0.count()\n",
    "csiro1_etp1 = (swh2.csiro1 - ensmean)**2 / 10 #swh2.csiro1.count()\n",
    "csiro2_etp1 = (swh2.csiro2 - ensmean)**2 / 10 #swh2.csiro2.count()\n",
    "csiro3_etp1 = (swh2.csiro3 - ensmean)**2 / 10 #swh2.csiro3.count()\n",
    "csiro4_etp1 = (swh2.csiro4 - ensmean)**2 / 10 #swh2.csiro4.count()\n",
    "csiro5_etp1 = (swh2.csiro5 - ensmean)**2 / 10 #swh2.csiro5.count()\n",
    "csiro6_etp1 = (swh2.csiro6 - ensmean)**2 / 10 #swh2.csiro6.count()\n",
    "csiro7_etp1 = (swh2.csiro7 - ensmean)**2 / 10 #swh2.csiro7.count()\n",
    "csiro8_etp1 = (swh2.csiro8 - ensmean)**2 / 10 #swh2.csiro8.count()\n",
    "csiro9_etp1 = (swh2.csiro9 - ensmean)**2 / 10 #swh2.csiro9.count()"
   ]
  },
  {
   "cell_type": "code",
   "execution_count": null,
   "metadata": {},
   "outputs": [],
   "source": [
    "#standard_deviation = sqrt( sum( (x - mean)^2 ) / count(x))\n",
    "csiro_sum_etp2 = csiro0_etp1 + csiro1_etp1 + csiro2_etp1 + csiro3_etp1 + csiro4_etp1 + csiro5_etp1 + csiro6_etp1 + csiro7_etp1 + csiro8_etp1 + csiro9_etp1"
   ]
  },
  {
   "cell_type": "code",
   "execution_count": null,
   "metadata": {},
   "outputs": [],
   "source": [
    "#standard_deviation = sqrt( sum( (x - mean)^2 ) / count(x))\n",
    "ensspd_era5 = csiro_sum_etp2.apply(sqrt)\n",
    "ensspd_era5"
   ]
  },
  {
   "cell_type": "markdown",
   "metadata": {},
   "source": [
    "### Calculations for the SWN-WRFERA5 system"
   ]
  },
  {
   "cell_type": "markdown",
   "metadata": {},
   "source": [
    "#### ENS Mean"
   ]
  },
  {
   "cell_type": "code",
   "execution_count": null,
   "metadata": {},
   "outputs": [],
   "source": [
    "swh2_wrf = swh[['csiro_WRF00', 'csiro_WRF01','csiro_WRF02','csiro_WRF03','csiro_WRF04','csiro_WRF05','csiro_WRF06','csiro_WRF07','csiro_WRF08','csiro_WRF09']]"
   ]
  },
  {
   "cell_type": "code",
   "execution_count": null,
   "metadata": {},
   "outputs": [],
   "source": [
    "ensmean_wrf = (swh2_wrf.csiro_WRF00 + swh2_wrf.csiro_WRF01 + swh2_wrf.csiro_WRF02 + swh2_wrf.csiro_WRF03 + swh2_wrf.csiro_WRF04 + swh2_wrf.csiro_WRF05 + swh2_wrf.csiro_WRF06 + swh2_wrf.csiro_WRF07 + swh2_wrf.csiro_WRF08 + swh2_wrf.csiro_WRF09) / 10"
   ]
  },
  {
   "cell_type": "markdown",
   "metadata": {},
   "source": [
    "#### ENS Spread"
   ]
  },
  {
   "cell_type": "code",
   "execution_count": null,
   "metadata": {},
   "outputs": [],
   "source": [
    "from math import sqrt\n",
    "\n",
    "#standard_deviation = sqrt( sum( (x - mean)^2 ) / count(x))\n",
    "csiro_WRF00_etp1 = (swh2_wrf.csiro_WRF00 - ensmean_wrf)**2 / 10 #swh2_wrf.csiro_WRF00.count()\n",
    "csiro_WRF01_etp1 = (swh2_wrf.csiro_WRF01 - ensmean_wrf)**2 / 10 #swh2_wrf.csiro_WRF01.count()\n",
    "csiro_WRF02_etp1 = (swh2_wrf.csiro_WRF02 - ensmean_wrf)**2 / 10 #swh2_wrf.csiro_WRF02.count()\n",
    "csiro_WRF03_etp1 = (swh2_wrf.csiro_WRF03 - ensmean_wrf)**2 / 10 #swh2_wrf.csiro_WRF03.count()\n",
    "csiro_WRF04_etp1 = (swh2_wrf.csiro_WRF04 - ensmean_wrf)**2 / 10 #swh2_wrf.csiro_WRF04.count()\n",
    "csiro_WRF05_etp1 = (swh2_wrf.csiro_WRF05 - ensmean_wrf)**2 / 10 #swh2_wrf.csiro_WRF05.count()\n",
    "csiro_WRF06_etp1 = (swh2_wrf.csiro_WRF06 - ensmean_wrf)**2 / 10 #swh2_wrf.csiro_WRF06.count()\n",
    "csiro_WRF07_etp1 = (swh2_wrf.csiro_WRF07 - ensmean_wrf)**2 / 10 #swh2_wrf.csiro_WRF07.count()\n",
    "csiro_WRF08_etp1 = (swh2_wrf.csiro_WRF08 - ensmean_wrf)**2 / 10 #swh2_wrf.csiro_WRF08.count()\n",
    "csiro_WRF09_etp1 = (swh2_wrf.csiro_WRF09 - ensmean_wrf)**2 / 10 #swh2_wrf.csiro_WRF09.count()"
   ]
  },
  {
   "cell_type": "code",
   "execution_count": null,
   "metadata": {},
   "outputs": [],
   "source": [
    "#standard_deviation = sqrt( sum( (x - mean)^2 ) / count(x))\n",
    "csiro_wrf_sum_etp2 = csiro_WRF00_etp1 + csiro_WRF01_etp1 + csiro_WRF02_etp1 + csiro_WRF03_etp1 + csiro_WRF04_etp1 + csiro_WRF05_etp1 + csiro_WRF06_etp1 + csiro_WRF07_etp1 + csiro_WRF08_etp1 + csiro_WRF09_etp1\n",
    "csiro_wrf_sum_etp2"
   ]
  },
  {
   "cell_type": "code",
   "execution_count": null,
   "metadata": {},
   "outputs": [],
   "source": [
    "#standard_deviation = sqrt( sum( (x - mean)^2 ) / count(x))\n",
    "ensspd_wrf = csiro_wrf_sum_etp2.apply(sqrt)\n",
    "ensspd_wrf"
   ]
  },
  {
   "cell_type": "markdown",
   "metadata": {},
   "source": [
    "### Calculations for the SWN-WRFPPar system"
   ]
  },
  {
   "cell_type": "markdown",
   "metadata": {},
   "source": [
    "#### ENS Mean"
   ]
  },
  {
   "cell_type": "code",
   "execution_count": null,
   "metadata": {},
   "outputs": [],
   "source": [
    "swh2_wrf_new = swh[['csiro_WRF10', 'csiro_WRF11','csiro_WRF12','csiro_WRF13']]"
   ]
  },
  {
   "cell_type": "code",
   "execution_count": null,
   "metadata": {},
   "outputs": [],
   "source": [
    "ensmean_wrf_new = (swh2_wrf_new.csiro_WRF10 + swh2_wrf_new.csiro_WRF11 + swh2_wrf_new.csiro_WRF12 + swh2_wrf_new.csiro_WRF13) / 4"
   ]
  },
  {
   "cell_type": "markdown",
   "metadata": {},
   "source": [
    "#### ENS Spread"
   ]
  },
  {
   "cell_type": "code",
   "execution_count": null,
   "metadata": {},
   "outputs": [],
   "source": [
    "from math import sqrt\n",
    "\n",
    "#standard_deviation = sqrt( sum( (x - mean)^2 ) / count(x))\n",
    "csiro_WRF10_etp1 = (swh2_wrf_new.csiro_WRF10 - ensmean_wrf_new)**2 / 4 #swh2_wrf.csiro_WRF00.count()\n",
    "csiro_WRF11_etp1 = (swh2_wrf_new.csiro_WRF11 - ensmean_wrf_new)**2 / 4 #swh2_wrf.csiro_WRF01.count()\n",
    "csiro_WRF12_etp1 = (swh2_wrf_new.csiro_WRF12 - ensmean_wrf_new)**2 / 4 #swh2_wrf.csiro_WRF02.count()\n",
    "csiro_WRF13_etp1 = (swh2_wrf_new.csiro_WRF13 - ensmean_wrf_new)**2 / 4 #swh2_wrf.csiro_WRF03.count()\n"
   ]
  },
  {
   "cell_type": "code",
   "execution_count": null,
   "metadata": {},
   "outputs": [],
   "source": [
    "#standard_deviation = sqrt( sum( (x - mean)^2 ) / count(x))\n",
    "csiro_wrf_sum_etp2_new = csiro_WRF10_etp1 + csiro_WRF11_etp1 + csiro_WRF12_etp1 + csiro_WRF13_etp1\n",
    "csiro_wrf_sum_etp2_new"
   ]
  },
  {
   "cell_type": "code",
   "execution_count": null,
   "metadata": {},
   "outputs": [],
   "source": [
    "#standard_deviation = sqrt( sum( (x - mean)^2 ) / count(x))\n",
    "ensspd_wrf_new = csiro_wrf_sum_etp2_new.apply(sqrt)\n",
    "ensspd_wrf_new"
   ]
  },
  {
   "cell_type": "markdown",
   "metadata": {},
   "source": [
    "#### Final Plot of Ensemble Time Series Analisys"
   ]
  },
  {
   "cell_type": "code",
   "execution_count": null,
   "metadata": {},
   "outputs": [],
   "source": [
    "############################################################\n",
    "############# PLOT FINAL ENSEMBLE RESULTS ##################\n",
    "############################################################\n",
    "\n",
    "fig, axs = plt.subplots(3, figsize=(17,17), sharex=True, sharey=True)\n",
    "\n",
    "axs[0].set_title('(a) SWN-ERA5EDA', fontsize = 18)\n",
    "axs[0].plot(swh['csiro0'], color = 'lightskyblue', label = 'SWN-ERA5EDA members') \n",
    "axs[0].plot(swh['csiro1'], color = 'lightskyblue')\n",
    "axs[0].plot(swh['csiro2'], color = 'lightskyblue')\n",
    "axs[0].plot(swh['csiro3'], color = 'lightskyblue')\n",
    "axs[0].plot(swh['csiro4'], color = 'lightskyblue')\n",
    "axs[0].plot(swh['csiro5'], color = 'lightskyblue')\n",
    "axs[0].plot(swh['csiro6'], color = 'lightskyblue')\n",
    "axs[0].plot(swh['csiro7'], color = 'lightskyblue')\n",
    "axs[0].plot(swh['csiro8'], color = 'lightskyblue')\n",
    "axs[0].plot(swh['csiro9'], color = 'lightskyblue')\n",
    "axs[0].plot(ensmean, color = 'royalblue', label = 'SWN-ERA5EDA Ens. Mean')\n",
    "axs[0].plot(ensspd_era5, color = 'black', label = 'SWN-ERA5EDA spread')\n",
    "axs[0].plot(swh['buoy'], 'k:', color = 'crimson', label = 'Itajaí Wavebuoy')\n",
    "axs[0].grid(True)\n",
    "axs[0].legend(loc='upper center')\n",
    "axs[0].tick_params(labelsize = 12)\n",
    "axs[0].set_ylim(-.5, 5.5)\n",
    "\n",
    "axs[1].set_title('(b) SWN-WRFERA5', fontsize = 18)\n",
    "axs[1].plot(swh['csiro_WRF00'], color = 'silver', label = 'SWN-WRFERA5 members') \n",
    "axs[1].plot(swh['csiro_WRF01'], color = 'silver')\n",
    "axs[1].plot(swh['csiro_WRF02'], color = 'silver')\n",
    "axs[1].plot(swh['csiro_WRF03'], color = 'silver')\n",
    "axs[1].plot(swh['csiro_WRF04'], color = 'silver')\n",
    "axs[1].plot(swh['csiro_WRF05'], color = 'silver')\n",
    "axs[1].plot(swh['csiro_WRF06'], color = 'silver')\n",
    "axs[1].plot(swh['csiro_WRF07'], color = 'silver')\n",
    "axs[1].plot(swh['csiro_WRF08'], color = 'silver')\n",
    "axs[1].plot(swh['csiro_WRF09'], color = 'silver')\n",
    "axs[1].plot(ensmean_wrf, color = 'dimgray', label = 'SWN-WRFERA5 Ens. Mean')\n",
    "axs[1].plot(ensspd_wrf, color = 'black', label = 'SWN-WRFERA5 spread')\n",
    "axs[1].plot(swh['buoy'], 'k:', color = 'crimson', label = 'Itajaí Wavebuoy')\n",
    "axs[1].grid(True)\n",
    "axs[1].legend(loc='upper center')\n",
    "axs[1].tick_params(labelsize = 12)\n",
    "\n",
    "axs[2].set_title('(c) SWN-WRFPPar', fontsize = 18)\n",
    "axs[2].plot(swh['csiro_WRF10'], color = 'darkgreen', label = 'MYJ + ETA member')\n",
    "axs[2].plot(swh['csiro_WRF11'], color = 'darkblue', label = 'YSU + MM5 member')\n",
    "axs[2].plot(swh['csiro_WRF12'], color = 'darkorange', label = 'MYNN2 + MYNN2 member')\n",
    "axs[2].plot(swh['csiro_WRF13'], color = 'darkmagenta', label = 'ACM + MM5 member')\n",
    "axs[2].plot(ensmean_wrf_new, color = 'darkslategray', label = 'SWN-WRFPPar Ens. Mean')\n",
    "axs[2].plot(swh['buoy'], 'k:', color = 'crimson', label = 'Itajaí Wavebuoy')\n",
    "axs[2].plot(ensspd_wrf_new, color = 'black', label = 'SWN-WRFPPar spread')\n",
    "axs[2].grid(True)\n",
    "axs[2].legend(loc='upper center', fancybox=True, framealpha=0.5)\n",
    "axs[2].tick_params(labelsize = 10)\n",
    "\n",
    "fig.text(0.5, 0.08, 'Time', ha='center', va='center', fontsize = 16)\n",
    "fig.text(0.08, 0.5, 'Hs (m)', ha='center', va='center', rotation='vertical', fontsize = 16)\n",
    "plt.savefig('ensemble_seriesHsITJ_spread.svg', format='svg', dpi = 600, bbox_inches='tight')\n"
   ]
  }
 ],
 "metadata": {
  "kernelspec": {
   "display_name": "Python 3",
   "language": "python",
   "name": "python3"
  },
  "language_info": {
   "codemirror_mode": {
    "name": "ipython",
    "version": 3
   },
   "file_extension": ".py",
   "mimetype": "text/x-python",
   "name": "python",
   "nbconvert_exporter": "python",
   "pygments_lexer": "ipython3",
   "version": "3.8.8"
  }
 },
 "nbformat": 4,
 "nbformat_minor": 4
}
